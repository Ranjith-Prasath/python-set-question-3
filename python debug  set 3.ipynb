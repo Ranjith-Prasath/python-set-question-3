{
 "cells": [
  {
   "cell_type": "code",
   "execution_count": null,
   "id": "e0cda6bb",
   "metadata": {},
   "outputs": [],
   "source": [
    "#1.What is wrong with the following function definition, and how do you fix it?\n",
    "\n",
    "\n",
    "def say_hello(name) :\n",
    "    print(\"Hello, \" + name)\n",
    "# Colon is missing "
   ]
  },
  {
   "cell_type": "code",
   "execution_count": null,
   "id": "8e33c083",
   "metadata": {},
   "outputs": [],
   "source": [
    "#2.What error will occur in the following code, and how do you fix it?\n",
    "\n",
    "\n",
    "age = 25\n",
    "print(\"I am \" ,age ,\"years old\")\n",
    "\n",
    "# syntax error  - > it was a type error , use comma instead of +"
   ]
  },
  {
   "cell_type": "code",
   "execution_count": null,
   "id": "52da6958",
   "metadata": {},
   "outputs": [],
   "source": [
    "#3.Question:\n",
    "What is the issue with the following code?\n",
    "\n",
    "def greet():\n",
    "    message = \"Hello\"\n",
    "    print(message)\n",
    "\n",
    "\n",
    "# it is out of the indentation\n",
    "# function is not defined\n",
    " #not sure about the object code not found stuff"
   ]
  },
  {
   "cell_type": "code",
   "execution_count": null,
   "id": "55e7fb08-d28d-4107-bf62-f62109d54851",
   "metadata": {},
   "outputs": [],
   "source": [
    "func  =greet()\n"
   ]
  },
  {
   "cell_type": "code",
   "execution_count": null,
   "id": "98d811ab",
   "metadata": {},
   "outputs": [],
   "source": [
    "#4.What error will occur in the following code, and how do you fix it?\n",
    "\n",
    "def add(a, b):\n",
    "    return a + b\n",
    "\n",
    "print(add(5,7))\n",
    "\n",
    "# should pass two parameters inside the calling function"
   ]
  },
  {
   "cell_type": "code",
   "execution_count": 2,
   "id": "87cdb40a",
   "metadata": {},
   "outputs": [],
   "source": [
    "#5.What is wrong with this code?\n",
    "\n",
    "def is_even(n):\n",
    "    if n % 2 == 1:\n",
    "        return True\n",
    "    else:\n",
    "        return False\n",
    "# passed a number, but expecting a boolean value in return // ig"
   ]
  },
  {
   "cell_type": "code",
   "execution_count": 3,
   "id": "9849beed",
   "metadata": {},
   "outputs": [
    {
     "name": "stdout",
     "output_type": "stream",
     "text": [
      "10a\n"
     ]
    }
   ],
   "source": [
    "#6.What happens when you run this code?\n",
    "\n",
    "num = (\"10a\")\n",
    "print(num)\n",
    "# error a (char or string) cannot be converted to int"
   ]
  },
  {
   "cell_type": "code",
   "execution_count": null,
   "id": "e2de2ed1",
   "metadata": {},
   "outputs": [],
   "source": [
    "#7.What will happen when you run the following code?\n",
    "\n",
    "\n",
    "numbers = [1, 2, 3, 4]\n",
    "numbers.sort()\n",
    "print(numbers)\n",
    "\n",
    "#it will print the  value as same the initial declaration (already sort), but there is no reverse attribute \n",
    "#available"
   ]
  },
  {
   "cell_type": "code",
   "execution_count": 4,
   "id": "76c3f328",
   "metadata": {},
   "outputs": [
    {
     "name": "stdout",
     "output_type": "stream",
     "text": [
      "[1, 2, 3, 4]\n"
     ]
    }
   ],
   "source": [
    "#8.What is the issue with this code?\n",
    "\n",
    "\n",
    "numbers = [1, 2, 3]\n",
    "num1 = numbers.append(4)\n",
    "print(numbers)\n",
    "\n",
    "# should declare/ a different variable for appending"
   ]
  },
  {
   "cell_type": "code",
   "execution_count": 5,
   "id": "4e03b70d",
   "metadata": {},
   "outputs": [
    {
     "name": "stdout",
     "output_type": "stream",
     "text": [
      "11\n"
     ]
    }
   ],
   "source": [
    "#9.What will happen when you run the following code?\n",
    "\n",
    "\n",
    "\n",
    "\n",
    "def increment():\n",
    "    count = 10\n",
    "    count += 1\n",
    "    print(count)\n",
    "\n",
    "increment()\n",
    "\n",
    "#it will throw an error, because it is given outside the function, which is not local to the function\n",
    "# so it cannot able to access it "
   ]
  },
  {
   "cell_type": "code",
   "execution_count": 6,
   "id": "2034a700",
   "metadata": {},
   "outputs": [
    {
     "name": "stdout",
     "output_type": "stream",
     "text": [
      "n\n"
     ]
    }
   ],
   "source": [
    "#10.What error will occur in the following code?\n",
    "\n",
    "text = \"Python\"\n",
    "print(text[5])\n",
    "\n",
    "#out of bounds error , because it holds the value till 0 to 5 only, if we give 10, it will throw an error"
   ]
  },
  {
   "cell_type": "code",
   "execution_count": null,
   "id": "1bf753bf",
   "metadata": {},
   "outputs": [],
   "source": []
  },
  {
   "cell_type": "code",
   "execution_count": null,
   "id": "332e6058",
   "metadata": {},
   "outputs": [],
   "source": []
  },
  {
   "cell_type": "code",
   "execution_count": null,
   "id": "e9f9ec4a",
   "metadata": {},
   "outputs": [],
   "source": []
  },
  {
   "cell_type": "code",
   "execution_count": null,
   "id": "a4ac24f3",
   "metadata": {},
   "outputs": [],
   "source": []
  },
  {
   "cell_type": "code",
   "execution_count": null,
   "id": "a131a6e8",
   "metadata": {},
   "outputs": [],
   "source": []
  },
  {
   "cell_type": "code",
   "execution_count": null,
   "id": "9c76c104",
   "metadata": {},
   "outputs": [],
   "source": []
  },
  {
   "cell_type": "code",
   "execution_count": null,
   "id": "00877add",
   "metadata": {},
   "outputs": [],
   "source": []
  },
  {
   "cell_type": "code",
   "execution_count": null,
   "id": "5c9757c9",
   "metadata": {},
   "outputs": [],
   "source": []
  },
  {
   "cell_type": "code",
   "execution_count": null,
   "id": "77922c34",
   "metadata": {},
   "outputs": [],
   "source": []
  },
  {
   "cell_type": "code",
   "execution_count": null,
   "id": "85723416",
   "metadata": {},
   "outputs": [],
   "source": []
  },
  {
   "cell_type": "code",
   "execution_count": null,
   "id": "43418092",
   "metadata": {},
   "outputs": [],
   "source": []
  }
 ],
 "metadata": {
  "kernelspec": {
   "display_name": "Python 3 (ipykernel)",
   "language": "python",
   "name": "python3"
  },
  "language_info": {
   "codemirror_mode": {
    "name": "ipython",
    "version": 3
   },
   "file_extension": ".py",
   "mimetype": "text/x-python",
   "name": "python",
   "nbconvert_exporter": "python",
   "pygments_lexer": "ipython3",
   "version": "3.13.5"
  }
 },
 "nbformat": 4,
 "nbformat_minor": 5
}
