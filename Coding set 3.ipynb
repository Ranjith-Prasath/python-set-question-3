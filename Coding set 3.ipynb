{
 "cells": [
  {
   "cell_type": "code",
   "execution_count": null,
   "id": "511e5dbe",
   "metadata": {},
   "outputs": [],
   "source": [
    "#1. Square of Numbers from 1 to 5\n",
    "#Output:\n",
    "#1 4 9 16 25\n",
    "for temp in range(1,6):\n",
    "    print((temp*temp),end=\" \")\n"
   ]
  },
  {
   "cell_type": "code",
   "execution_count": 12,
   "id": "e886abee",
   "metadata": {},
   "outputs": [
    {
     "name": "stdout",
     "output_type": "stream",
     "text": [
      "swap value of a : 10\n",
      "Swap value of b:  5\n"
     ]
    }
   ],
   "source": [
    "#2.Swap Two Variables Without Using a Temporary Variable\n",
    "#Question: Write a Python program to swap two variables a = 5 and b = 10 without using a temporary variable.\n",
    "a = 5\n",
    "b =10\n",
    "b = b-a\n",
    "a = a + a\n",
    "print(\"swap value of a :\" , a )\n",
    "print(\"Swap value of b: \", b)\n"
   ]
  },
  {
   "cell_type": "code",
   "execution_count": null,
   "id": "adfc0479",
   "metadata": {},
   "outputs": [],
   "source": [
    " #3.Find Even and Odd Numbers in a List\n",
    "#Question: Write a Python program to separate even and odd numbers from the list [12, 17, 19, 24, 35, 40, 56].\n",
    "#list = [12, 17, 19, 24, 35, 40, 56]\n",
    "#for temp in list :\n",
    " #   if(temp%2 ==0):\n"
   ]
  },
  {
   "cell_type": "code",
   "execution_count": 3,
   "id": "9bd0afd7",
   "metadata": {},
   "outputs": [
    {
     "name": "stdout",
     "output_type": "stream",
     "text": [
      "54321\n"
     ]
    }
   ],
   "source": [
    "#4. Reverse a Number\n",
    "#Question: Write a Python program to reverse the number 12345.\n",
    "number = 12345\n",
    "#print(number)\n",
    "rev = 0\n",
    "fn = 0\n",
    "while number > 0:\n",
    "    fn = number % 10\n",
    "    rev = rev * 10 + fn\n",
    "    number = int(number/10)\n",
    "print(rev)\n",
    "    \n"
   ]
  },
  {
   "cell_type": "code",
   "execution_count": 18,
   "id": "baf1f666",
   "metadata": {},
   "outputs": [
    {
     "ename": "SyntaxError",
     "evalue": "invalid syntax (931210935.py, line 5)",
     "output_type": "error",
     "traceback": [
      "\u001b[1;36m  Cell \u001b[1;32mIn[18], line 5\u001b[1;36m\u001b[0m\n\u001b[1;33m    print(append.(4))\u001b[0m\n\u001b[1;37m                 ^\u001b[0m\n\u001b[1;31mSyntaxError\u001b[0m\u001b[1;31m:\u001b[0m invalid syntax\n"
     ]
    }
   ],
   "source": [
    "#5. Find the Second Largest Number in a List\n",
    "#Question: Write a Python program to find the second largest number in the list [12, 45, 98, 34, 23].\n",
    "\n",
    "list = [12, 45, 98, 34, 23]\n",
    "print(max(list))\n",
    "#print("
   ]
  },
  {
   "cell_type": "code",
   "execution_count": null,
   "id": "eb6e77d2",
   "metadata": {},
   "outputs": [],
   "source": []
  },
  {
   "cell_type": "code",
   "execution_count": null,
   "id": "cf27438f",
   "metadata": {},
   "outputs": [],
   "source": []
  },
  {
   "cell_type": "code",
   "execution_count": null,
   "id": "8a8e84b3",
   "metadata": {},
   "outputs": [],
   "source": []
  },
  {
   "cell_type": "code",
   "execution_count": null,
   "id": "a73f86c4",
   "metadata": {},
   "outputs": [],
   "source": []
  }
 ],
 "metadata": {
  "kernelspec": {
   "display_name": "Python 3 (ipykernel)",
   "language": "python",
   "name": "python3"
  },
  "language_info": {
   "codemirror_mode": {
    "name": "ipython",
    "version": 3
   },
   "file_extension": ".py",
   "mimetype": "text/x-python",
   "name": "python",
   "nbconvert_exporter": "python",
   "pygments_lexer": "ipython3",
   "version": "3.13.5"
  }
 },
 "nbformat": 4,
 "nbformat_minor": 5
}
